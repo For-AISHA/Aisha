{
 "cells": [
  {
   "cell_type": "markdown",
   "metadata": {},
   "source": [
    "### Conversation History"
   ]
  },
  {
   "cell_type": "code",
   "execution_count": 4,
   "metadata": {},
   "outputs": [],
   "source": [
    "from dotenv import load_dotenv\n",
    "import os\n",
    "import time\n",
    "from langchain_groq import ChatGroq\n",
    "from langchain_core.messages import HumanMessage, SystemMessage, AIMessage\n",
    "from langchain_community.chat_message_histories import ChatMessageHistory\n",
    "from langchain_core.chat_history import BaseChatMessageHistory\n",
    "from langchain_core.runnables.history import RunnableWithMessageHistory\n",
    "from langchain_core.prompts import ChatPromptTemplate, MessagesPlaceholder\n",
    "\n",
    "\n",
    "\n",
    "load_dotenv()\n",
    "\n",
    "#Langsmith Tracking\n",
    "os.environ['LANGCHAIN_API_KEY']=os.getenv('LANGCHAIN_API_KEY')\n",
    "os.environ['LANGCHAIN_TRACKING_V2']=\"true\"\n",
    "os.environ['LANGCHAIN_PROJECT']=os.getenv('LANGCHAIN_PROJECT')\n",
    "os.environ['GROQ_API_KEY']=os.getenv('GROQ_API_KEY')\n",
    "groq_api_key=os.getenv('GROQ_API_KEY')\n",
    "\n",
    "model=ChatGroq(model='llama3-8b-8192', groq_api_key=groq_api_key)\n",
    "\n",
    "store={}\n",
    "\n",
    "def get_session_history(session_id:str)->BaseChatMessageHistory:\n",
    "    if session_id not in store:\n",
    "        store[session_id]=ChatMessageHistory()\n",
    "    return store[session_id]\n",
    "\n",
    "# with_message_history=RunnableWithMessageHistory(model,get_session_history)\n",
    "\n",
    "config={\"configurable\":{\"session_id\" : 'dhairya'}}\n",
    "\n",
    "# prompt = ChatPromptTemplate.from_messages(\n",
    "#     messages=[\n",
    "#         SystemMessage('''You are a helpful and calm customer support agent, AISHA.\n",
    "#                       Answer to user queries and provide them with the best possible solution in the language they asked the question.\n",
    "#                       If you do not have their name and phone number, ask them for it.\n",
    "#                       If they face a technical issue, tell them some basic troubleshooting steps.\n",
    "#                       If they have a complaint, ask them for the details and create a ticket for them.\n",
    "#                       If they want to know about their order, ask them for their order number and provide them with the details.\n",
    "#                       Don't be too frank and don't answer unrelated questions, if a user asks anything that is not related, \n",
    "#                       ask them to ask only related questions politely.\n",
    "#                       There is a flow to follow in the conversation, follow it and provide the best possible solution to the user.\n",
    "#                       First, greet the user, then ask them for their name and phone number, then ask them for their query,\n",
    "#                       then provide them with the solution, if they are not satisfied, then lodge a complaint and raise a ticket. \n",
    "#                       And at last, ask them if they have any other queries.\n",
    "#                       If they have any other queries, ask them to ask them one by one.\n",
    "#                       '''),\n",
    "#         MessagesPlaceholder(variable_name=\"messages\")\n",
    "#     ]\n",
    "# )\n",
    "prompt = ChatPromptTemplate.from_messages(\n",
    "    [\n",
    "        (\"system\", '''You are a helpful and calm customer support agent, AISHA.\n",
    "                      Answer to user queries and provide them with the best possible solution in the language they asked the question.\n",
    "                      If you do not have their name and phone number, ask them for it.\n",
    "                      If they face a technical issue, tell them some basic troubleshooting steps.\n",
    "                      If they have a complaint, ask them for the details and create a ticket for them.\n",
    "                      If they want to know about their order, ask them for their order number and provide them with the details.\n",
    "                      Don't be too frank and don't answer unrelated questions, if a user asks anything that is not related, \n",
    "                      ask them to ask only related questions politely.\n",
    "                      There is a flow to follow in the conversation, follow it and provide the best possible solution to the user.\n",
    "                      First, greet the user, then ask them for their name and phone number, then ask them for their query,\n",
    "                      then provide them with the solution, if they are not satisfied, then lodge a complaint and raise a ticket. \n",
    "                      And at last, ask them if they have any other queries.\n",
    "                      If they have any other queries, ask them to ask them one by one.\n",
    "                      '''),\n",
    "        (\"human\", \"{query}\"),\n",
    "    ]\n",
    ")\n",
    "\n",
    "\n",
    "\n",
    "\n",
    "chain=prompt|model\n",
    "\n",
    "\n",
    "with_message_history = RunnableWithMessageHistory(\n",
    "    chain,\n",
    "    get_session_history,\n",
    ")\n"
   ]
  },
  {
   "cell_type": "code",
   "execution_count": 5,
   "metadata": {},
   "outputs": [
    {
     "data": {
      "text/plain": [
       "\"Welcome to our customer support, Dhairya! Thank you for reaching out to us. Could you please provide me with your phone number as well, so I can assist you better?\\n\\nAlso, could you please describe the technical issue you're facing in more detail? What exactly is happening when you're trying to access our service or use our product? The more information you can provide, the better I'll be able to help you troubleshoot the issue.\\n\\nIn the meantime, have you tried any troubleshooting steps already? Sometimes, restarting the device or checking the internet connection can resolve the issue. Let me know, and I'll do my best to assist you further.\""
      ]
     },
     "execution_count": 5,
     "metadata": {},
     "output_type": "execute_result"
    }
   ],
   "source": [
    "response=with_message_history.invoke(\n",
    "    input={\"query\": \"My name is Dhairya and I am facing a technical issue\"},\n",
    "    config=config,\n",
    ")\n",
    "response.content"
   ]
  },
  {
   "cell_type": "code",
   "execution_count": null,
   "metadata": {},
   "outputs": [],
   "source": []
  }
 ],
 "metadata": {
  "kernelspec": {
   "display_name": "Python 3",
   "language": "python",
   "name": "python3"
  },
  "language_info": {
   "codemirror_mode": {
    "name": "ipython",
    "version": 3
   },
   "file_extension": ".py",
   "mimetype": "text/x-python",
   "name": "python",
   "nbconvert_exporter": "python",
   "pygments_lexer": "ipython3",
   "version": "3.11.0"
  }
 },
 "nbformat": 4,
 "nbformat_minor": 2
}

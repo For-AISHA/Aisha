{
 "cells": [
  {
   "cell_type": "code",
   "execution_count": 21,
   "metadata": {},
   "outputs": [
    {
     "name": "stdout",
     "output_type": "stream",
     "text": [
      "C:\\Users\\Dhairya Arora\\Videos\\Gen AI\\LANGCHAIN\\aisha\\walmart.db\n"
     ]
    }
   ],
   "source": [
    "from pathlib import Path\n",
    "from sqlalchemy import create_engine\n",
    "from langchain.sql_database import SQLDatabase\n",
    "import sqlite3\n",
    "from langchain.chains import create_sql_query_chain\n",
    "from langchain.agents import create_sql_agent\n",
    "from langchain.agents.agent_types import AgentType\n",
    "from langchain.callbacks import StreamlitCallbackHandler\n",
    "from langchain.agents.agent_toolkits import SQLDatabaseToolkit\n",
    "\n",
    "from dotenv import load_dotenv\n",
    "import os\n",
    "import time\n",
    "from langchain_groq import ChatGroq\n",
    "from langchain_core.messages import HumanMessage, SystemMessage, AIMessage\n",
    "from langchain_community.chat_message_histories import ChatMessageHistory\n",
    "from langchain_core.chat_history import BaseChatMessageHistory\n",
    "from langchain_core.runnables.history import RunnableWithMessageHistory\n",
    "from langchain_core.prompts import ChatPromptTemplate, MessagesPlaceholder\n",
    "\n",
    "\n",
    "\n",
    "load_dotenv()\n",
    "\n",
    "#Langsmith Tracking\n",
    "os.environ['LANGCHAIN_API_KEY']=os.getenv('LANGCHAIN_API_KEY')\n",
    "os.environ['LANGCHAIN_TRACKING_V2']=\"true\"\n",
    "os.environ['LANGCHAIN_PROJECT']=os.getenv('LANGCHAIN_PROJECT')\n",
    "os.environ['GROQ_API_KEY']=os.getenv('GROQ_API_KEY')\n",
    "groq_api_key=os.getenv('GROQ_API_KEY')\n",
    "\n",
    "llm=ChatGroq(model='llama3-8b-8192', groq_api_key=groq_api_key)\n",
    "\n",
    "def configure_db():\n",
    "    \n",
    "        dbfilepath=(Path(\"C:/Users/Dhairya Arora/Videos/Gen AI/LANGCHAIN/aisha/walmart.db\")).absolute()\n",
    "        print(dbfilepath)\n",
    "        creator=lambda: sqlite3.connect(f\"file:{dbfilepath}?mode=rwc\",uri=True)\n",
    "        return SQLDatabase(create_engine(\"sqlite:///\", creator=creator))\n",
    "    \n",
    "db=configure_db()\n",
    "\n",
    "\n",
    "# chainSec = create_sql_query_chain(model, db)\n",
    "\n",
    "# toolkit=SQLDatabaseToolkit(db=db,llm=model)\n",
    "\n",
    "# agent=create_sql_agent(\n",
    "# prompt=prompt,\n",
    "# llm=model,\n",
    "# toolkit=toolkit,\n",
    "# verbose=True,\n",
    "# agent_type=AgentType.ZERO_SHOT_REACT_DESCRIPTION\n",
    "# )\n",
    "\n",
    "# agent.run({\n",
    "#         'messages': [ HumanMessage('Find records of userId 1')]\n",
    "# })\n"
   ]
  },
  {
   "cell_type": "code",
   "execution_count": 22,
   "metadata": {},
   "outputs": [
    {
     "data": {
      "text/plain": [
       "[QuerySQLDataBaseTool(description=\"Input to this tool is a detailed and correct SQL query, output is a result from the database. If the query is not correct, an error message will be returned. If an error is returned, rewrite the query, check the query, and try again. If you encounter an issue with Unknown column 'xxxx' in 'field list', use sql_db_schema to query the correct table fields.\", db=<langchain_community.utilities.sql_database.SQLDatabase object at 0x000001DDA64AE690>),\n",
       " InfoSQLDatabaseTool(description='Input to this tool is a comma-separated list of tables, output is the schema and sample rows for those tables. Be sure that the tables actually exist by calling sql_db_list_tables first! Example Input: table1, table2, table3', db=<langchain_community.utilities.sql_database.SQLDatabase object at 0x000001DDA64AE690>),\n",
       " ListSQLDatabaseTool(db=<langchain_community.utilities.sql_database.SQLDatabase object at 0x000001DDA64AE690>),\n",
       " QuerySQLCheckerTool(description='Use this tool to double check if your query is correct before executing it. Always use this tool before executing a query with sql_db_query!', db=<langchain_community.utilities.sql_database.SQLDatabase object at 0x000001DDA64AE690>, llm=ChatGroq(client=<groq.resources.chat.completions.Completions object at 0x000001DDA695EC50>, async_client=<groq.resources.chat.completions.AsyncCompletions object at 0x000001DDA70D8B50>, model_name='llama3-8b-8192', groq_api_key=SecretStr('**********')), llm_chain=LLMChain(prompt=PromptTemplate(input_variables=['dialect', 'query'], template='\\n{query}\\nDouble check the {dialect} query above for common mistakes, including:\\n- Using NOT IN with NULL values\\n- Using UNION when UNION ALL should have been used\\n- Using BETWEEN for exclusive ranges\\n- Data type mismatch in predicates\\n- Properly quoting identifiers\\n- Using the correct number of arguments for functions\\n- Casting to the correct data type\\n- Using the proper columns for joins\\n\\nIf there are any of the above mistakes, rewrite the query. If there are no mistakes, just reproduce the original query.\\n\\nOutput the final SQL query only.\\n\\nSQL Query: '), llm=ChatGroq(client=<groq.resources.chat.completions.Completions object at 0x000001DDA695EC50>, async_client=<groq.resources.chat.completions.AsyncCompletions object at 0x000001DDA70D8B50>, model_name='llama3-8b-8192', groq_api_key=SecretStr('**********'))))]"
      ]
     },
     "execution_count": 22,
     "metadata": {},
     "output_type": "execute_result"
    }
   ],
   "source": [
    "from langchain_community.agent_toolkits import SQLDatabaseToolkit\n",
    "\n",
    "toolkit = SQLDatabaseToolkit(db=db, llm=llm)\n",
    "\n",
    "tools = toolkit.get_tools()\n",
    "\n",
    "tools\n"
   ]
  },
  {
   "cell_type": "code",
   "execution_count": 23,
   "metadata": {},
   "outputs": [],
   "source": [
    "from langchain_core.messages import SystemMessage\n",
    "\n",
    "SQL_PREFIX = \"\"\"\n",
    "You are an agent designed to interact with a SQL database.\n",
    "If you see a name or a phone number in query extract it and fetch the details of the customer from the customer table,\n",
    "match the firtname and lastname of the customer with the name in the query or phone number.\n",
    "ignore rest of the query. If you see an orderId in the query, extract it and fetch the details of the order from the database, create a syntactically correct SQLite query to run, then look at the results of the query and return the answer.\n",
    "Unless the user specifies a specific number of examples they wish to obtain, always limit your query to at most 8 results.\n",
    "You can order the results by a relevant column to return the most interesting examples in the database.\n",
    "Never query for all the columns from a specific table, only ask for the relevant columns given the question.\n",
    "You have access to tools for interacting with the database.\n",
    "Only use the below tools. Only use the information returned by the below tools to construct your final answer.\n",
    "You MUST double check your query before executing it. If you get an error while executing a query, rewrite the query and try again.\n",
    "To start you should ALWAYS look at the tables in the database to see what you can query.\n",
    "Do NOT skip this step.\n",
    "Then you should query the schema of the most relevant tables.\"\"\"\n",
    "\n",
    "system_message = SystemMessage(content=SQL_PREFIX)"
   ]
  },
  {
   "cell_type": "code",
   "execution_count": 24,
   "metadata": {},
   "outputs": [
    {
     "name": "stderr",
     "output_type": "stream",
     "text": [
      "C:\\Users\\Dhairya Arora\\AppData\\Local\\Temp\\ipykernel_25912\\446365532.py:4: LangGraphDeprecationWarning: Parameter 'messages_modifier' in function 'create_react_agent' is deprecated as of version 0.1.9 and will be removed in version 0.2.0. Use 'state_modifier' parameter instead.\n",
      "  agent_executor = create_react_agent(model=llm, tools=tools, messages_modifier=system_message)\n"
     ]
    }
   ],
   "source": [
    "from langchain_core.messages import HumanMessage\n",
    "from langgraph.prebuilt import create_react_agent\n",
    "\n",
    "agent_executor = create_react_agent(model=llm, tools=tools, messages_modifier=system_message)"
   ]
  },
  {
   "cell_type": "code",
   "execution_count": 28,
   "metadata": {},
   "outputs": [
    {
     "name": "stderr",
     "output_type": "stream",
     "text": [
      "Exception closing connection <sqlite3.Connection object at 0x000001DDA71197B0>\n",
      "Traceback (most recent call last):\n",
      "  File \"c:\\Users\\Dhairya Arora\\Videos\\Gen AI\\LANGCHAIN\\venv\\Lib\\site-packages\\sqlalchemy\\pool\\base.py\", line 376, in _close_connection\n",
      "    self._dialect.do_close(connection)\n",
      "  File \"c:\\Users\\Dhairya Arora\\Videos\\Gen AI\\LANGCHAIN\\venv\\Lib\\site-packages\\sqlalchemy\\engine\\default.py\", line 707, in do_close\n",
      "    dbapi_connection.close()\n",
      "sqlite3.ProgrammingError: SQLite objects created in a thread can only be used in that same thread. The object was created in thread id 26748 and this is thread id 9172.\n",
      "Exception closing connection <sqlite3.Connection object at 0x000001DDA71193F0>\n",
      "Traceback (most recent call last):\n",
      "  File \"c:\\Users\\Dhairya Arora\\Videos\\Gen AI\\LANGCHAIN\\venv\\Lib\\site-packages\\sqlalchemy\\pool\\base.py\", line 376, in _close_connection\n",
      "    self._dialect.do_close(connection)\n",
      "  File \"c:\\Users\\Dhairya Arora\\Videos\\Gen AI\\LANGCHAIN\\venv\\Lib\\site-packages\\sqlalchemy\\engine\\default.py\", line 707, in do_close\n",
      "    dbapi_connection.close()\n",
      "sqlite3.ProgrammingError: SQLite objects created in a thread can only be used in that same thread. The object was created in thread id 18140 and this is thread id 20428.\n",
      "Exception closing connection <sqlite3.Connection object at 0x000001DDA71196C0>\n",
      "Traceback (most recent call last):\n",
      "  File \"c:\\Users\\Dhairya Arora\\Videos\\Gen AI\\LANGCHAIN\\venv\\Lib\\site-packages\\sqlalchemy\\pool\\base.py\", line 376, in _close_connection\n",
      "    self._dialect.do_close(connection)\n",
      "  File \"c:\\Users\\Dhairya Arora\\Videos\\Gen AI\\LANGCHAIN\\venv\\Lib\\site-packages\\sqlalchemy\\engine\\default.py\", line 707, in do_close\n",
      "    dbapi_connection.close()\n",
      "sqlite3.ProgrammingError: SQLite objects created in a thread can only be used in that same thread. The object was created in thread id 31240 and this is thread id 16980.\n",
      "Exception closing connection <sqlite3.Connection object at 0x000001DDA71187C0>\n",
      "Traceback (most recent call last):\n",
      "  File \"c:\\Users\\Dhairya Arora\\Videos\\Gen AI\\LANGCHAIN\\venv\\Lib\\site-packages\\sqlalchemy\\pool\\base.py\", line 376, in _close_connection\n",
      "    self._dialect.do_close(connection)\n",
      "  File \"c:\\Users\\Dhairya Arora\\Videos\\Gen AI\\LANGCHAIN\\venv\\Lib\\site-packages\\sqlalchemy\\engine\\default.py\", line 707, in do_close\n",
      "    dbapi_connection.close()\n",
      "sqlite3.ProgrammingError: SQLite objects created in a thread can only be used in that same thread. The object was created in thread id 25440 and this is thread id 12888.\n",
      "Exception closing connection <sqlite3.Connection object at 0x000001DDA71186D0>\n",
      "Traceback (most recent call last):\n",
      "  File \"c:\\Users\\Dhairya Arora\\Videos\\Gen AI\\LANGCHAIN\\venv\\Lib\\site-packages\\sqlalchemy\\pool\\base.py\", line 376, in _close_connection\n",
      "    self._dialect.do_close(connection)\n",
      "  File \"c:\\Users\\Dhairya Arora\\Videos\\Gen AI\\LANGCHAIN\\venv\\Lib\\site-packages\\sqlalchemy\\engine\\default.py\", line 707, in do_close\n",
      "    dbapi_connection.close()\n",
      "sqlite3.ProgrammingError: SQLite objects created in a thread can only be used in that same thread. The object was created in thread id 9172 and this is thread id 5652.\n"
     ]
    },
    {
     "name": "stdout",
     "output_type": "stream",
     "text": [
      "Final Output:\n",
      "<tool-use></tool-use>\n"
     ]
    }
   ],
   "source": [
    "# Initialize a variable to store the final result\n",
    "final_output = None\n",
    "\n",
    "# Stream through the responses\n",
    "for s in agent_executor.stream(\n",
    "    {\n",
    "        'messages': [HumanMessage('My firstname is Dhairya Arora and my phone number is 9811264318. Tell me my address from the database')]\n",
    "    }\n",
    "):\n",
    "    # Check if the message is from the agent\n",
    "    if 'agent' in s and 'messages' in s['agent']:\n",
    "        # Loop through the messages to find the final AIMessage\n",
    "        for message in s['agent']['messages']:\n",
    "            if isinstance(message, AIMessage):\n",
    "                final_output = message.content\n",
    "\n",
    "# Print or use the final output\n",
    "if final_output:\n",
    "    print(\"Final Output:\")\n",
    "    print(final_output)\n",
    "else:\n",
    "    print(\"No final output found.\")\n"
   ]
  },
  {
   "cell_type": "code",
   "execution_count": null,
   "metadata": {},
   "outputs": [],
   "source": []
  }
 ],
 "metadata": {
  "kernelspec": {
   "display_name": "Python 3",
   "language": "python",
   "name": "python3"
  },
  "language_info": {
   "codemirror_mode": {
    "name": "ipython",
    "version": 3
   },
   "file_extension": ".py",
   "mimetype": "text/x-python",
   "name": "python",
   "nbconvert_exporter": "python",
   "pygments_lexer": "ipython3",
   "version": "3.11.0"
  }
 },
 "nbformat": 4,
 "nbformat_minor": 2
}
